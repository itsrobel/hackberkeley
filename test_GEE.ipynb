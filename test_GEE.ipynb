{
 "cells": [
  {
   "cell_type": "code",
   "execution_count": 11,
   "id": "0a40226f",
   "metadata": {
    "papermill": {
     "duration": 0.364526,
     "end_time": "2021-09-20T15:36:48.527848",
     "exception": false,
     "start_time": "2021-09-20T15:36:48.163322",
     "status": "completed"
    },
    "tags": []
   },
   "outputs": [
    {
     "data": {
      "text/plain": [
       "True"
      ]
     },
     "execution_count": 11,
     "metadata": {},
     "output_type": "execute_result"
    }
   ],
   "source": [
    "import ee\n",
    "from ee import image\n",
    "import folium\n",
    "from folium import features\n",
    "from folium.plugins import GroupedLayerControl\n",
    "import os\n",
    "import webbrowser\n",
    "\n",
    "# Triggering authentification to earth engine services\n",
    "# Run in terminal: earthengine authenticate\n",
    "\n",
    "# initializing the earth engine library (always keep this on)\n",
    "ee.Initialize()\n",
    "\n",
    "# ##### Define a method for displaying Earth Engine image tiles to folium map\n",
    "def add_ee_layer(self, ee_image_object, vis_params, name):\n",
    "  map_id_dict = ee.Image(ee_image_object).getMapId(vis_params)\n",
    "  layer = folium.raster_layers.TileLayer(\n",
    "      tiles = map_id_dict['tile_fetcher'].url_format,\n",
    "      attr = 'Map Data &copy; <a href=\"https://earthengine.google.com/\">Google Earth Engine</a>',\n",
    "      name = name,\n",
    "      overlay = True,\n",
    "      control = True\n",
    "  )\n",
    "  layer.add_to(self)\n",
    "  return layer\n",
    "  \n",
    "folium.Map.add_ee_layer = add_ee_layer\n",
    "\n",
    "# Buffer/Circular AOI\n",
    "aoi = ee.Geometry.Point([2.28, 36.615]).buffer(8000)\n",
    "\n",
    "# Working with specific satellite imagery ID (sentinel-2)\n",
    "image_satellite1 = ee.Image('COPERNICUS/S2_SR/20220218T102949_20220218T103126_T31SDA')\n",
    "image_satellite2 = ee.Image('COPERNICUS/S2_SR/20230107T104329_20230107T104329_T31SDA')\n",
    "\n",
    "# clipping satellite images to an Area Of Interest (a buffer circle in this case)\n",
    "image_satellite1 = image_satellite1.clip(aoi).divide(10000)\n",
    "image_satellite2 = image_satellite2.clip(aoi).divide(10000)\n",
    "\n",
    "# Sattelite image visual parameters\n",
    "image_params = {\n",
    "  'bands': ['B4',  'B3',  'B2'],\n",
    "  'min': 0,\n",
    "  'max': 0.35,\n",
    "  'gamma': 0.9\n",
    "}\n",
    "\n",
    "#################### MAIN MAP ####################\n",
    "# setting up the main map for the project\n",
    "m = folium.Map(location = [36.62, 2.3], tiles=None, zoom_start = 12, control_scale = True)\n",
    "\n",
    "# ########## Primary basemaps (Victor data):\n",
    "basemap1 = folium.TileLayer('cartodbdark_matter', name='Dark Matter').add_to(m)\n",
    "basemap2 = folium.TileLayer('openstreetmap', name='Open Street Map').add_to(m)\n",
    "\n",
    "#################### SPATIAL FEATURES LAYERS ####################\n",
    "\n",
    "# #### MARKERS features layers\n",
    "blue_marker_group = folium.FeatureGroup(\n",
    "  name='Blue Marker',\n",
    "  overlay=True,\n",
    "  control=True,\n",
    "  show=True\n",
    ").add_to(m)\n",
    "\n",
    "# Individual merkers (Not from a geojson file)\n",
    "BLUE_MARKER = folium.Marker(\n",
    "  location=[36.63, 2.26],\n",
    "  popup= None,\n",
    "  tooltip=\"<h4>Blue Marker.</h4>\"\n",
    ").add_to(blue_marker_group)\n",
    "\n",
    "#################### GEE RASTER LAYERS ####################\n",
    "# adding the satellite images as layers and display them on the map + on layer panel\n",
    "image_sat_1_layer = m.add_ee_layer(image_satellite1, image_params, 'Image Satellite 1')\n",
    "image_sat_2_layer = m.add_ee_layer(image_satellite2, image_params, 'Image Satellite 2')\n",
    "\n",
    "#################### Layer controller ####################\n",
    "folium.LayerControl(collapsed=False).add_to(m)\n",
    "\n",
    "#################### LAYER GROUPS ####################\n",
    "GroupedLayerControl(\n",
    "    groups={\n",
    "      '--------MARKERS LAYER--------': [blue_marker_group],\n",
    "      '--GOOLE EARTH ENGINE LAYERS--': [image_sat_1_layer, image_sat_2_layer]\n",
    "    },\n",
    "    exclusive_groups=False,\n",
    "    collapsed=False\n",
    ").add_to(m)\n",
    "\n",
    "# save map as html file\n",
    "m.save('map.html')\n",
    "# Opening the map file in default browser on execution\n",
    "webbrowser.open('map.html')"
   ]
  },
  {
   "cell_type": "code",
   "execution_count": null,
   "id": "ae37aa14",
   "metadata": {},
   "outputs": [],
   "source": []
  }
 ],
 "metadata": {
  "kernelspec": {
   "display_name": "base",
   "language": "python",
   "name": "python3"
  },
  "language_info": {
   "codemirror_mode": {
    "name": "ipython",
    "version": 3
   },
   "file_extension": ".py",
   "mimetype": "text/x-python",
   "name": "python",
   "nbconvert_exporter": "python",
   "pygments_lexer": "ipython3",
   "version": "3.12.2"
  },
  "papermill": {
   "default_parameters": {},
   "duration": 129.777833,
   "end_time": "2021-09-20T15:36:50.818336",
   "environment_variables": {},
   "exception": null,
   "input_path": "__notebook__.ipynb",
   "output_path": "__notebook__.ipynb",
   "parameters": {},
   "start_time": "2021-09-20T15:34:41.040503",
   "version": "2.3.3"
  }
 },
 "nbformat": 4,
 "nbformat_minor": 5
}
